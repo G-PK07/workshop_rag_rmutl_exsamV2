{
  "cells": [
    {
      "cell_type": "markdown",
      "metadata": {},
      "source": [
        "# 📚 Workshop: RAG + LangChain + Streamlit\n",
        "\n",
        "## ช่วงที่ 3: Build RAG Pipeline with LangChain (1:30 – 2:30)\n",
        "\n",
        "---\n",
        "\n",
        "### 🎯 วัตถุประสงค์การเรียนรู้\n",
        "- ใช้ RetrievalQA หรือ ConversationalRetrievalChain\n",
        "- ตั้งค่า retriever (search_type=\"similarity\", k=3)\n",
        "- เชื่อมต่อกับ LLM (Groq Llama)\n",
        "- ทดลองถาม-ตอบจากข้อมูล\n",
        "- สร้าง Custom Prompt Template\n",
        "\n",
        "---\n"
      ]
    },
    {
      "cell_type": "markdown",
      "metadata": {},
      "source": [
        "## 🔗 RAG Pipeline Overview\n",
        "\n",
        "### สถาปัตยกรรม RAG Pipeline:\n",
        "\n",
        "```mermaid\n",
        "graph TD\n",
        "    A[คำถามของผู้ใช้] --> B[Embeddings]\n",
        "    B --> C[Vector Search]\n",
        "    D[Vector Store] --> C\n",
        "    C --> E[Retriever]\n",
        "    E --> F[Context Documents]\n",
        "    F --> G[Prompt Template]\n",
        "    G --> H[LLM]\n",
        "    H --> I[คำตอบ]\n",
        "```\n",
        "\n",
        "### LangChain Chains:\n",
        "\n",
        "1. **RetrievalQA** - สำหรับคำถาม-คำตอบแบบง่าย\n",
        "2. **ConversationalRetrievalChain** - สำหรับการสนทนาที่มี memory\n",
        "3. **RetrievalQAWithSourcesChain** - รวมแหล่งอ้างอิง\n"
      ]
    },
    {
      "cell_type": "code",
      "execution_count": 1,
      "metadata": {},
      "outputs": [
        {
          "name": "stderr",
          "output_type": "stream",
          "text": [
            "/home/game/01_Projects/workshop_rag_rmutl/.venv/lib/python3.13/site-packages/tqdm/auto.py:21: TqdmWarning: IProgress not found. Please update jupyter and ipywidgets. See https://ipywidgets.readthedocs.io/en/stable/user_install.html\n",
            "  from .autonotebook import tqdm as notebook_tqdm\n"
          ]
        },
        {
          "name": "stdout",
          "output_type": "stream",
          "text": [
            "✅ Libraries imported successfully!\n"
          ]
        },
        {
          "name": "stderr",
          "output_type": "stream",
          "text": [
            "/tmp/ipykernel_40136/1761979277.py:36: LangChainDeprecationWarning: The class `HuggingFaceEmbeddings` was deprecated in LangChain 0.2.2 and will be removed in 1.0. An updated version of the class exists in the :class:`~langchain-huggingface package and should be used instead. To use it run `pip install -U :class:`~langchain-huggingface` and import as `from :class:`~langchain_huggingface import HuggingFaceEmbeddings``.\n",
            "  embeddings = HuggingFaceEmbeddings(\n",
            "INFO:sentence_transformers.SentenceTransformer:Use pytorch device_name: cuda:0\n",
            "INFO:sentence_transformers.SentenceTransformer:Load pretrained SentenceTransformer: all-MiniLM-L6-v2\n",
            "INFO:faiss.loader:Loading faiss with AVX2 support.\n",
            "INFO:faiss.loader:Successfully loaded faiss with AVX2 support.\n"
          ]
        },
        {
          "name": "stdout",
          "output_type": "stream",
          "text": [
            "✅ โหลด Vector Store สำเร็จ: 13 documents\n"
          ]
        }
      ],
      "source": [
        "# Import Libraries และโหลด Vector Store\n",
        "import os\n",
        "import sys\n",
        "from pathlib import Path\n",
        "\n",
        "# เพิ่ม path สำหรับ import modules\n",
        "sys.path.append('..')\n",
        "\n",
        "# Import LangChain components\n",
        "from langchain.chains import RetrievalQA\n",
        "from langchain.chains.conversational_retrieval.base import ConversationalRetrievalChain\n",
        "from langchain.prompts import PromptTemplate\n",
        "from langchain.memory import ConversationBufferMemory\n",
        "from langchain_groq import ChatGroq\n",
        "from langchain_community.vectorstores import FAISS\n",
        "from langchain_community.embeddings import HuggingFaceEmbeddings\n",
        "\n",
        "# Import utilities\n",
        "from dotenv import load_dotenv\n",
        "import logging\n",
        "\n",
        "# ตั้งค่า logging\n",
        "logging.basicConfig(level=logging.INFO)\n",
        "logger = logging.getLogger(__name__)\n",
        "\n",
        "# โหลด environment variables\n",
        "load_dotenv()\n",
        "\n",
        "print(\"✅ Libraries imported successfully!\")\n",
        "\n",
        "# โหลด Vector Store (ถ้ามี)\n",
        "vectorstore_path = \"../vectorstore\"\n",
        "if os.path.exists(vectorstore_path):\n",
        "    try:\n",
        "        # โหลด embeddings\n",
        "        embeddings = HuggingFaceEmbeddings(\n",
        "            model_name=\"all-MiniLM-L6-v2\",\n",
        "            cache_folder=\"../model_cache\"\n",
        "        )\n",
        "        \n",
        "        # โหลด FAISS vector store\n",
        "        vectorstore = FAISS.load_local(vectorstore_path, embeddings, allow_dangerous_deserialization=True)\n",
        "        print(f\"✅ โหลด Vector Store สำเร็จ: {vectorstore.index.ntotal} documents\")\n",
        "    except Exception as e:\n",
        "        print(f\"❌ ไม่สามารถโหลด Vector Store: {e}\")\n",
        "        vectorstore = None\n",
        "else:\n",
        "    print(\"❌ ไม่พบ Vector Store - กรุณารัน notebook ช่วงที่ 2 ก่อน\")\n",
        "    vectorstore = None\n"
      ]
    },
    {
      "cell_type": "markdown",
      "metadata": {},
      "source": [
        "## 🤖 ตั้งค่า LLM (Groq)\n",
        "\n",
        "### Groq คืออะไร?\n",
        "\n",
        "**Groq** เป็น AI inference company ที่ให้บริการ LLM inference ที่เร็วมาก\n",
        "\n",
        "### ข้อดีของ Groq:\n",
        "- ⚡ **เร็วมาก** - inference เร็วกว่า OpenAI\n",
        "- 💰 **ราคาถูก** - ราคาต่อ token ต่ำกว่า\n",
        "- 🔓 **Open Source** - รองรับโมเดล open source\n",
        "- 🌐 **API** - ใช้งานง่ายผ่าน API\n",
        "\n",
        "### โมเดลที่แนะนำ:\n",
        "- `llama-3.3-70b-versatile` - โมเดลใหญ่, คุณภาพดี\n",
        "- `llama-3.1-8b-instant` - โมเดลเล็ก, เร็ว\n",
        "- `mixtral-8x7b-32768` - Mixtral model\n"
      ]
    },
    {
      "cell_type": "code",
      "execution_count": 2,
      "metadata": {},
      "outputs": [
        {
          "name": "stdout",
          "output_type": "stream",
          "text": [
            "✅ ตั้งค่า Groq LLM สำเร็จ\n",
            "🤖 Model: llama-3.3-70b-versatile\n",
            "🌡️ Temperature: 0.1\n"
          ]
        },
        {
          "name": "stderr",
          "output_type": "stream",
          "text": [
            "INFO:httpx:HTTP Request: POST https://api.groq.com/openai/v1/chat/completions \"HTTP/1.1 200 OK\"\n"
          ]
        },
        {
          "name": "stdout",
          "output_type": "stream",
          "text": [
            "🧪 ทดสอบ LLM: สวัสดีครับ/ค่ะ ยินดีที่ได้รับใช้ครับ/ค่ะ มีอะไรที่...\n"
          ]
        }
      ],
      "source": [
        "# ตั้งค่า LLM (Groq)\n",
        "def setup_llm(model_name=\"llama-3.3-70b-versatile\", temperature=0.1):\n",
        "    \"\"\"ตั้งค่า Groq LLM\"\"\"\n",
        "    try:\n",
        "        # ตรวจสอบ API Key\n",
        "        api_key = os.getenv(\"GROQ_API_KEY\")\n",
        "        if not api_key:\n",
        "            raise ValueError(\"GROQ_API_KEY ไม่พบใน environment variables\")\n",
        "        \n",
        "        # สร้าง Groq LLM\n",
        "        llm = ChatGroq(\n",
        "            groq_api_key=api_key,\n",
        "            model_name=model_name,\n",
        "            temperature=temperature\n",
        "        )\n",
        "        \n",
        "        print(f\"✅ ตั้งค่า Groq LLM สำเร็จ\")\n",
        "        print(f\"🤖 Model: {model_name}\")\n",
        "        print(f\"🌡️ Temperature: {temperature}\")\n",
        "        \n",
        "        # ทดสอบ LLM\n",
        "        test_response = llm.invoke(\"สวัสดี\")\n",
        "        print(f\"🧪 ทดสอบ LLM: {test_response.content[:50]}...\")\n",
        "        \n",
        "        return llm\n",
        "        \n",
        "    except Exception as e:\n",
        "        print(f\"❌ เกิดข้อผิดพลาด: {e}\")\n",
        "        return None\n",
        "\n",
        "# ตั้งค่า LLM\n",
        "llm = setup_llm(\"llama-3.3-70b-versatile\", temperature=0.1)\n"
      ]
    },
    {
      "cell_type": "markdown",
      "metadata": {},
      "source": [
        "## 🎯 สร้าง Custom Prompt Template\n",
        "\n",
        "### ทำไมต้องใช้ Custom Prompt?\n",
        "\n",
        "1. **ควบคุมการตอบ** - ให้ LLM ตอบตามรูปแบบที่ต้องการ\n",
        "2. **เพิ่มบริบท** - อธิบายบทบาทของ LLM\n",
        "3. **ปรับปรุงคุณภาพ** - ให้คำตอบที่แม่นยำขึ้น\n",
        "4. **รองรับภาษาไทย** - ปรับ prompt ให้เหมาะกับภาษาไทย\n",
        "\n",
        "### โครงสร้าง Prompt Template:\n",
        "\n",
        "```\n",
        "System Message: บทบาทของ LLM\n",
        "Context: ข้อมูลจากเอกสาร\n",
        "Question: คำถามของผู้ใช้\n",
        "Answer: คำตอบที่ต้องการ\n",
        "```\n"
      ]
    },
    {
      "cell_type": "code",
      "execution_count": null,
      "metadata": {},
      "outputs": [
        {
          "name": "stdout",
          "output_type": "stream",
          "text": [
            "✅ สร้าง Custom Prompt Template สำเร็จ\n",
            "📝 Prompt Template:\n",
            "--------------------------------------------------\n",
            "\n",
            "คุณเป็นผู้ช่วยที่เชี่ยวชาญเกี่ยวกับข้อมูลในเอกสาร จงตอบคำถามอย่างกระชับและถูกต้อง\n",
            "\n",
            "ข้อมูลอ้างอิง:\n",
            "{context}\n",
            "\n",
            "คำถาม: {question}\n",
            "\n",
            "คำตอบ:\n",
            "--------------------------------------------------\n"
          ]
        }
      ],
      "source": [
        "# สร้าง Custom Prompt Template\n",
        "def create_custom_prompt():\n",
        "    \"\"\"สร้าง Custom Prompt Template สำหรับภาษาไทย\"\"\"\n",
        "    \n",
        "    prompt_template = \"\"\"\n",
        "        คุณเป็นผู้ช่วยที่เชี่ยวชาญเกี่ยวกับข้อมูลในเอกสาร จงตอบคำถามอย่างกระชับและถูกต้อง\n",
        "\n",
        "        ข้อมูลอ้างอิง:\n",
        "        {context}\n",
        "\n",
        "        คำถาม: {question}\n",
        "\n",
        "        คำตอบ:\"\"\"\n",
        "    \n",
        "    # สร้าง PromptTemplate\n",
        "    PROMPT = PromptTemplate(\n",
        "        template=prompt_template,\n",
        "        input_variables=[\"context\", \"question\"]\n",
        "    )\n",
        "    \n",
        "    print(\"✅ สร้าง Custom Prompt Template สำเร็จ\")\n",
        "    print(\"📝 Prompt Template:\")\n",
        "    print(\"-\" * 50)\n",
        "    print(prompt_template)\n",
        "    print(\"-\" * 50)\n",
        "    \n",
        "    return PROMPT\n",
        "\n",
        "# สร้าง Prompt Template\n",
        "custom_prompt = create_custom_prompt()\n"
      ]
    },
    {
      "cell_type": "markdown",
      "metadata": {},
      "source": [
        "## 🔗 สร้าง RetrievalQA Chain\n",
        "\n",
        "### RetrievalQA Chain คืออะไร?\n",
        "\n",
        "**RetrievalQA** เป็น chain ที่รวม:\n",
        "1. **Retriever** - ค้นหาเอกสารที่เกี่ยวข้อง\n",
        "2. **QA Chain** - สร้างคำตอบจากเอกสารที่ค้นหาได้\n",
        "\n",
        "### พารามิเตอร์สำคัญ:\n",
        "- `llm`: Language Model\n",
        "- `retriever`: Vector Store Retriever\n",
        "- `chain_type`: ประเภทของ chain (\"stuff\", \"map_reduce\", \"refine\")\n",
        "- `prompt`: Custom Prompt Template\n"
      ]
    },
    {
      "cell_type": "code",
      "execution_count": 4,
      "metadata": {},
      "outputs": [
        {
          "name": "stdout",
          "output_type": "stream",
          "text": [
            "🔍 สร้าง Retriever สำเร็จ (k=3)\n",
            "✅ สร้าง RetrievalQA Chain สำเร็จ\n",
            "🔗 Chain Type: stuff\n",
            "📊 Return Source Documents: True\n"
          ]
        }
      ],
      "source": [
        "# สร้าง RetrievalQA Chain\n",
        "def create_retrieval_qa_chain(vectorstore, llm, custom_prompt, k=3):\n",
        "    \"\"\"สร้าง RetrievalQA Chain\"\"\"\n",
        "    try:\n",
        "        if not vectorstore or not llm:\n",
        "            raise ValueError(\"ต้องมี vectorstore และ llm\")\n",
        "        \n",
        "        # สร้าง retriever\n",
        "        retriever = vectorstore.as_retriever(\n",
        "            search_type=\"similarity\",\n",
        "            search_kwargs={\"k\": k}\n",
        "        )\n",
        "        \n",
        "        print(f\"🔍 สร้าง Retriever สำเร็จ (k={k})\")\n",
        "        \n",
        "        # สร้าง RetrievalQA chain\n",
        "        qa_chain = RetrievalQA.from_chain_type(\n",
        "            llm=llm,\n",
        "            chain_type=\"stuff\",\n",
        "            retriever=retriever,\n",
        "            chain_type_kwargs={\"prompt\": custom_prompt},\n",
        "            return_source_documents=True\n",
        "        )\n",
        "        \n",
        "        print(\"✅ สร้าง RetrievalQA Chain สำเร็จ\")\n",
        "        print(f\"🔗 Chain Type: stuff\")\n",
        "        print(f\"📊 Return Source Documents: True\")\n",
        "        \n",
        "        return qa_chain\n",
        "        \n",
        "    except Exception as e:\n",
        "        print(f\"❌ เกิดข้อผิดพลาด: {e}\")\n",
        "        return None\n",
        "\n",
        "# สร้าง RetrievalQA Chain\n",
        "if vectorstore and llm and custom_prompt:\n",
        "    qa_chain = create_retrieval_qa_chain(vectorstore, llm, custom_prompt, k=3)\n",
        "else:\n",
        "    print(\"❌ ไม่สามารถสร้าง RetrievalQA Chain - ตรวจสอบ vectorstore, llm, และ prompt\")\n",
        "    qa_chain = None\n"
      ]
    },
    {
      "cell_type": "markdown",
      "metadata": {},
      "source": [
        "## 🧪 ทดสอบ RAG Pipeline\n",
        "\n",
        "### คำถามทดสอบ:\n",
        "1. \"จังหวัดน่านมีประชากรเท่าไหร่?\"\n",
        "2. \"จังหวัดน่านมีสถานที่ท่องเที่ยวอะไรบ้าง?\"\n",
        "3. \"จังหวัดน่านมีประวัติศาสตร์อย่างไร?\"\n",
        "4. \"จังหวัดน่านมีอาหารพื้นเมืองอะไรบ้าง?\"\n"
      ]
    },
    {
      "cell_type": "code",
      "execution_count": 5,
      "metadata": {},
      "outputs": [
        {
          "name": "stderr",
          "output_type": "stream",
          "text": [
            "/tmp/ipykernel_40136/4269863517.py:17: LangChainDeprecationWarning: The method `Chain.__call__` was deprecated in langchain 0.1.0 and will be removed in 1.0. Use :meth:`~invoke` instead.\n",
            "  result = qa_chain({\"query\": question})\n"
          ]
        },
        {
          "name": "stdout",
          "output_type": "stream",
          "text": [
            "🧪 ทดสอบ RAG Pipeline\n",
            "============================================================\n",
            "\n",
            "📝 คำถามที่ 1: จังหวัดน่านมีประชากรเท่าไหร่?\n",
            "--------------------------------------------------\n"
          ]
        },
        {
          "name": "stderr",
          "output_type": "stream",
          "text": [
            "INFO:httpx:HTTP Request: POST https://api.groq.com/openai/v1/chat/completions \"HTTP/1.1 200 OK\"\n"
          ]
        },
        {
          "name": "stdout",
          "output_type": "stream",
          "text": [
            "🤖 คำตอบ: ข้อมูลที่ให้มาไม่ได้ระบุจำนวนประชากรของจังหวัดน่าน\n",
            "\n",
            "📚 แหล่งอ้างอิง (3 เอกสาร):\n",
            "  1. หน้า 2\n",
            "     เนื้อหา: สมัยกรุงรัตนโกสินทร์ นครน่านมีฐานะเป็นหัวเมืองประเทศราช เจ้าผู้ครองนครน่านในชั้นหลัง\n",
            "ทุกองค์ต่างปฏิบ...\n",
            "  2. หน้า 0\n",
            "     เนื้อหา: ครองเมืองย่างแทน จึงให้เสนาอำมาตย์ไปเชิญ เจ้าเก้าเถื่อนเกรงใจปู่จึงยอมไปอยู่เมืองย่างและ\n",
            "มอบให้ชายาค...\n",
            "  3. หน้า 2\n",
            "     เนื้อหา: สมัยล้านนา \n",
            "ในปี พ.ศ. 1993 พระเจ้าติโลกราชกษัตริย์นครเชียงใหม่ มีความประสงค์จะครอบครอง\n",
            "เมืองน่านและแ...\n",
            "\n",
            "============================================================\n",
            "\n",
            "📝 คำถามที่ 2: จังหวัดน่านมีสถานที่ท่องเที่ยวอะไรบ้าง?\n",
            "--------------------------------------------------\n"
          ]
        },
        {
          "name": "stderr",
          "output_type": "stream",
          "text": [
            "INFO:httpx:HTTP Request: POST https://api.groq.com/openai/v1/chat/completions \"HTTP/1.1 200 OK\"\n"
          ]
        },
        {
          "name": "stdout",
          "output_type": "stream",
          "text": [
            "🤖 คำตอบ: จังหวัดน่านมีสถานที่ท่องเที่ยวหลายแห่ง เช่น วัดพระธาตุแช่แห้ง, วัดสวนตาล, วัดพระธาตุช้างค้ำ และบ่อเกลือใต้ เป็นต้น\n",
            "\n",
            "📚 แหล่งอ้างอิง (3 เอกสาร):\n",
            "  1. หน้า 2\n",
            "     เนื้อหา: สมัยกรุงรัตนโกสินทร์ นครน่านมีฐานะเป็นหัวเมืองประเทศราช เจ้าผู้ครองนครน่านในชั้นหลัง\n",
            "ทุกองค์ต่างปฏิบ...\n",
            "  2. หน้า 0\n",
            "     เนื้อหา: ครองเมืองย่างแทน จึงให้เสนาอำมาตย์ไปเชิญ เจ้าเก้าเถื่อนเกรงใจปู่จึงยอมไปอยู่เมืองย่างและ\n",
            "มอบให้ชายาค...\n",
            "  3. หน้า 2\n",
            "     เนื้อหา: สมัยล้านนา \n",
            "ในปี พ.ศ. 1993 พระเจ้าติโลกราชกษัตริย์นครเชียงใหม่ มีความประสงค์จะครอบครอง\n",
            "เมืองน่านและแ...\n",
            "\n",
            "============================================================\n",
            "\n",
            "📝 คำถามที่ 3: จังหวัดน่านมีประวัติศาสตร์อย่างไร?\n",
            "--------------------------------------------------\n"
          ]
        },
        {
          "name": "stderr",
          "output_type": "stream",
          "text": [
            "INFO:httpx:HTTP Request: POST https://api.groq.com/openai/v1/chat/completions \"HTTP/1.1 200 OK\"\n"
          ]
        },
        {
          "name": "stdout",
          "output_type": "stream",
          "text": [
            "🤖 คำตอบ: จังหวัดน่านมีประวัติศาสตร์ที่ยาวนานและซับซ้อน โดยเคยเป็นหัวเมืองประเทศราชในสมัยกรุงรัตนโกสินทร์ และเคยถูกผนวกเข้าไว้ในอาณาจักรล้านนาในสมัยพระเจ้าติโลกราช ก่อนจะถูกพม่าเข้ายึดครองหลายครั้งในช่วงปี พ.ศ. 2103–2328 นอกจากนี้ยังมีการซึมซับเอาศิลปวัฒนธรรมของล้านนาเข้ามาในวิถีชีวิต โดยเฉพาะการรับเอาศิลปกรรมทางด้านศาสนาแบบล้านนาเข้ามาแทนที่ศิลปกรรมแบบสุโขทัย\n",
            "\n",
            "📚 แหล่งอ้างอิง (3 เอกสาร):\n",
            "  1. หน้า 2\n",
            "     เนื้อหา: สมัยกรุงรัตนโกสินทร์ นครน่านมีฐานะเป็นหัวเมืองประเทศราช เจ้าผู้ครองนครน่านในชั้นหลัง\n",
            "ทุกองค์ต่างปฏิบ...\n",
            "  2. หน้า 0\n",
            "     เนื้อหา: ครองเมืองย่างแทน จึงให้เสนาอำมาตย์ไปเชิญ เจ้าเก้าเถื่อนเกรงใจปู่จึงยอมไปอยู่เมืองย่างและ\n",
            "มอบให้ชายาค...\n",
            "  3. หน้า 2\n",
            "     เนื้อหา: สมัยล้านนา \n",
            "ในปี พ.ศ. 1993 พระเจ้าติโลกราชกษัตริย์นครเชียงใหม่ มีความประสงค์จะครอบครอง\n",
            "เมืองน่านและแ...\n",
            "\n",
            "============================================================\n",
            "\n",
            "📝 คำถามที่ 4: จังหวัดน่านมีอาหารพื้นเมืองอะไรบ้าง?\n",
            "--------------------------------------------------\n"
          ]
        },
        {
          "name": "stderr",
          "output_type": "stream",
          "text": [
            "INFO:httpx:HTTP Request: POST https://api.groq.com/openai/v1/chat/completions \"HTTP/1.1 200 OK\"\n"
          ]
        },
        {
          "name": "stdout",
          "output_type": "stream",
          "text": [
            "🤖 คำตอบ: ข้อมูลที่ให้มาไม่ได้กล่าวถึงอาหารพื้นเมืองของจังหวัดน่าน\n",
            "\n",
            "📚 แหล่งอ้างอิง (3 เอกสาร):\n",
            "  1. หน้า 2\n",
            "     เนื้อหา: สมัยกรุงรัตนโกสินทร์ นครน่านมีฐานะเป็นหัวเมืองประเทศราช เจ้าผู้ครองนครน่านในชั้นหลัง\n",
            "ทุกองค์ต่างปฏิบ...\n",
            "  2. หน้า 0\n",
            "     เนื้อหา: ครองเมืองย่างแทน จึงให้เสนาอำมาตย์ไปเชิญ เจ้าเก้าเถื่อนเกรงใจปู่จึงยอมไปอยู่เมืองย่างและ\n",
            "มอบให้ชายาค...\n",
            "  3. หน้า 2\n",
            "     เนื้อหา: สมัยล้านนา \n",
            "ในปี พ.ศ. 1993 พระเจ้าติโลกราชกษัตริย์นครเชียงใหม่ มีความประสงค์จะครอบครอง\n",
            "เมืองน่านและแ...\n",
            "\n",
            "============================================================\n"
          ]
        }
      ],
      "source": [
        "# ทดสอบ RAG Pipeline\n",
        "def test_rag_pipeline(qa_chain, questions):\n",
        "    \"\"\"ทดสอบ RAG Pipeline\"\"\"\n",
        "    if not qa_chain:\n",
        "        print(\"❌ ไม่มี QA Chain ให้ทดสอบ\")\n",
        "        return\n",
        "    \n",
        "    print(\"🧪 ทดสอบ RAG Pipeline\")\n",
        "    print(\"=\" * 60)\n",
        "    \n",
        "    for i, question in enumerate(questions, 1):\n",
        "        print(f\"\\n📝 คำถามที่ {i}: {question}\")\n",
        "        print(\"-\" * 50)\n",
        "        \n",
        "        try:\n",
        "            # รัน QA Chain\n",
        "            result = qa_chain({\"query\": question})\n",
        "            \n",
        "            # แสดงคำตอบ\n",
        "            answer = result[\"result\"]\n",
        "            print(f\"🤖 คำตอบ: {answer}\")\n",
        "            \n",
        "            # แสดงแหล่งอ้างอิง\n",
        "            source_docs = result.get(\"source_documents\", [])\n",
        "            if source_docs:\n",
        "                print(f\"\\n📚 แหล่งอ้างอิง ({len(source_docs)} เอกสาร):\")\n",
        "                for j, doc in enumerate(source_docs, 1):\n",
        "                    print(f\"  {j}. หน้า {doc.metadata.get('page', 'N/A')}\")\n",
        "                    print(f\"     เนื้อหา: {doc.page_content[:100]}...\")\n",
        "            \n",
        "            print(\"\\n\" + \"=\" * 60)\n",
        "            \n",
        "        except Exception as e:\n",
        "            print(f\"❌ เกิดข้อผิดพลาด: {e}\")\n",
        "            print(\"\\n\" + \"=\" * 60)\n",
        "\n",
        "# คำถามทดสอบ\n",
        "test_questions = [\n",
        "    \"จังหวัดน่านมีประชากรเท่าไหร่?\",\n",
        "    \"จังหวัดน่านมีสถานที่ท่องเที่ยวอะไรบ้าง?\",\n",
        "    \"จังหวัดน่านมีประวัติศาสตร์อย่างไร?\",\n",
        "    \"จังหวัดน่านมีอาหารพื้นเมืองอะไรบ้าง?\"\n",
        "]\n",
        "\n",
        "# ทดสอบ RAG Pipeline\n",
        "test_rag_pipeline(qa_chain, test_questions)\n"
      ]
    },
    {
      "cell_type": "markdown",
      "metadata": {},
      "source": [
        "## 💬 สร้าง ConversationalRetrievalChain\n",
        "\n",
        "### ConversationalRetrievalChain คืออะไร?\n",
        "\n",
        "**ConversationalRetrievalChain** เป็น chain ที่มี memory สำหรับการสนทนา:\n",
        "1. **Memory** - จดจำการสนทนาก่อนหน้า\n",
        "2. **Retriever** - ค้นหาเอกสารที่เกี่ยวข้อง\n",
        "3. **LLM** - สร้างคำตอบโดยพิจารณาประวัติการสนทนา\n",
        "\n",
        "### ข้อดี:\n",
        "- ✅ จดจำบริบทการสนทนา\n",
        "- ✅ ตอบคำถามต่อเนื่องได้\n",
        "- ✅ มีความต่อเนื่องในการสนทนา\n"
      ]
    },
    {
      "cell_type": "code",
      "execution_count": 6,
      "metadata": {},
      "outputs": [
        {
          "name": "stdout",
          "output_type": "stream",
          "text": [
            "💾 สร้าง Memory สำเร็จ\n",
            "🔍 สร้าง Retriever สำเร็จ (k=3)\n",
            "✅ สร้าง ConversationalRetrievalChain สำเร็จ\n"
          ]
        },
        {
          "name": "stderr",
          "output_type": "stream",
          "text": [
            "/tmp/ipykernel_40136/2467826205.py:9: LangChainDeprecationWarning: Please see the migration guide at: https://python.langchain.com/docs/versions/migrating_memory/\n",
            "  memory = ConversationBufferMemory(\n"
          ]
        }
      ],
      "source": [
        "# สร้าง ConversationalRetrievalChain\n",
        "def create_conversational_chain(vectorstore, llm, k=3):\n",
        "    \"\"\"สร้าง ConversationalRetrievalChain\"\"\"\n",
        "    try:\n",
        "        if not vectorstore or not llm:\n",
        "            raise ValueError(\"ต้องมี vectorstore และ llm\")\n",
        "        \n",
        "        # สร้าง memory\n",
        "        memory = ConversationBufferMemory(\n",
        "            memory_key=\"chat_history\",\n",
        "            return_messages=True\n",
        "        )\n",
        "        \n",
        "        print(\"💾 สร้าง Memory สำเร็จ\")\n",
        "        \n",
        "        # สร้าง retriever\n",
        "        retriever = vectorstore.as_retriever(\n",
        "            search_type=\"similarity\",\n",
        "            search_kwargs={\"k\": k}\n",
        "        )\n",
        "        \n",
        "        print(f\"🔍 สร้าง Retriever สำเร็จ (k={k})\")\n",
        "        \n",
        "        # สร้าง ConversationalRetrievalChain\n",
        "        conversation_chain = ConversationalRetrievalChain.from_llm(\n",
        "            llm=llm,\n",
        "            retriever=retriever,\n",
        "            memory=memory,\n",
        "            return_source_documents=True\n",
        "        )\n",
        "        \n",
        "        print(\"✅ สร้าง ConversationalRetrievalChain สำเร็จ\")\n",
        "        \n",
        "        return conversation_chain\n",
        "        \n",
        "    except Exception as e:\n",
        "        print(f\"❌ เกิดข้อผิดพลาด: {e}\")\n",
        "        return None\n",
        "\n",
        "# สร้าง ConversationalRetrievalChain\n",
        "if vectorstore and llm:\n",
        "    conversation_chain = create_conversational_chain(vectorstore, llm, k=3)\n",
        "else:\n",
        "    print(\"❌ ไม่สามารถสร้าง ConversationalRetrievalChain - ตรวจสอบ vectorstore และ llm\")\n",
        "    conversation_chain = None\n"
      ]
    },
    {
      "cell_type": "markdown",
      "metadata": {},
      "source": [
        "## 🗣️ ทดสอบการสนทนา\n",
        "\n",
        "### ทดสอบการสนทนาต่อเนื่อง\n"
      ]
    },
    {
      "cell_type": "code",
      "execution_count": 7,
      "metadata": {},
      "outputs": [
        {
          "name": "stdout",
          "output_type": "stream",
          "text": [
            "🗣️ ทดสอบการสนทนาต่อเนื่อง\n",
            "============================================================\n",
            "\n",
            "👤 ผู้ใช้: จังหวัดน่านมีประชากรเท่าไหร่?\n",
            "------------------------------\n"
          ]
        },
        {
          "name": "stderr",
          "output_type": "stream",
          "text": [
            "INFO:httpx:HTTP Request: POST https://api.groq.com/openai/v1/chat/completions \"HTTP/1.1 200 OK\"\n"
          ]
        },
        {
          "name": "stdout",
          "output_type": "stream",
          "text": [
            "❌ เกิดข้อผิดพลาด: Got multiple output keys: dict_keys(['answer', 'source_documents']), cannot determine which to store in memory. Please set the 'output_key' explicitly.\n",
            "\n",
            "============================================================\n",
            "\n",
            "👤 ผู้ใช้: แล้วมีพื้นที่เท่าไหร่?\n",
            "------------------------------\n"
          ]
        },
        {
          "name": "stderr",
          "output_type": "stream",
          "text": [
            "INFO:httpx:HTTP Request: POST https://api.groq.com/openai/v1/chat/completions \"HTTP/1.1 200 OK\"\n"
          ]
        },
        {
          "name": "stdout",
          "output_type": "stream",
          "text": [
            "❌ เกิดข้อผิดพลาด: Got multiple output keys: dict_keys(['answer', 'source_documents']), cannot determine which to store in memory. Please set the 'output_key' explicitly.\n",
            "\n",
            "============================================================\n",
            "\n",
            "👤 ผู้ใช้: มีเขตการปกครองอะไรบ้าง?\n",
            "------------------------------\n"
          ]
        },
        {
          "name": "stderr",
          "output_type": "stream",
          "text": [
            "INFO:httpx:HTTP Request: POST https://api.groq.com/openai/v1/chat/completions \"HTTP/1.1 200 OK\"\n"
          ]
        },
        {
          "name": "stdout",
          "output_type": "stream",
          "text": [
            "❌ เกิดข้อผิดพลาด: Got multiple output keys: dict_keys(['answer', 'source_documents']), cannot determine which to store in memory. Please set the 'output_key' explicitly.\n",
            "\n",
            "============================================================\n",
            "\n",
            "👤 ผู้ใช้: สถานที่ท่องเที่ยวที่สำคัญคืออะไร?\n",
            "------------------------------\n"
          ]
        },
        {
          "name": "stderr",
          "output_type": "stream",
          "text": [
            "INFO:httpx:HTTP Request: POST https://api.groq.com/openai/v1/chat/completions \"HTTP/1.1 200 OK\"\n"
          ]
        },
        {
          "name": "stdout",
          "output_type": "stream",
          "text": [
            "❌ เกิดข้อผิดพลาด: Got multiple output keys: dict_keys(['answer', 'source_documents']), cannot determine which to store in memory. Please set the 'output_key' explicitly.\n",
            "\n",
            "============================================================\n"
          ]
        }
      ],
      "source": [
        "# ทดสอบการสนทนาต่อเนื่อง\n",
        "def test_conversation(conversation_chain, conversation_flow):\n",
        "    \"\"\"ทดสอบการสนทนาต่อเนื่อง\"\"\"\n",
        "    if not conversation_chain:\n",
        "        print(\"❌ ไม่มี Conversation Chain ให้ทดสอบ\")\n",
        "        return\n",
        "    \n",
        "    print(\"🗣️ ทดสอบการสนทนาต่อเนื่อง\")\n",
        "    print(\"=\" * 60)\n",
        "    \n",
        "    for i, question in enumerate(conversation_flow, 1):\n",
        "        print(f\"\\n👤 ผู้ใช้: {question}\")\n",
        "        print(\"-\" * 30)\n",
        "        \n",
        "        try:\n",
        "            # รัน conversation chain\n",
        "            result = conversation_chain({\"question\": question})\n",
        "            \n",
        "            # แสดงคำตอบ\n",
        "            answer = result[\"answer\"]\n",
        "            print(f\"🤖 Bot: {answer}\")\n",
        "            \n",
        "            # แสดงแหล่งอ้างอิง\n",
        "            source_docs = result.get(\"source_documents\", [])\n",
        "            if source_docs:\n",
        "                print(f\"\\n📚 แหล่งอ้างอิง ({len(source_docs)} เอกสาร):\")\n",
        "                for j, doc in enumerate(source_docs, 1):\n",
        "                    print(f\"  {j}. หน้า {doc.metadata.get('page', 'N/A')}\")\n",
        "                    print(f\"     เนื้อหา: {doc.page_content[:80]}...\")\n",
        "            \n",
        "            print(\"\\n\" + \"=\" * 60)\n",
        "            \n",
        "        except Exception as e:\n",
        "            print(f\"❌ เกิดข้อผิดพลาด: {e}\")\n",
        "            print(\"\\n\" + \"=\" * 60)\n",
        "\n",
        "# การสนทนาต่อเนื่อง\n",
        "conversation_flow = [\n",
        "    \"จังหวัดน่านมีประชากรเท่าไหร่?\",\n",
        "    \"แล้วมีพื้นที่เท่าไหร่?\",\n",
        "    \"มีเขตการปกครองอะไรบ้าง?\",\n",
        "    \"สถานที่ท่องเที่ยวที่สำคัญคืออะไร?\"\n",
        "]\n",
        "\n",
        "# ทดสอบการสนทนา\n",
        "test_conversation(conversation_chain, conversation_flow)\n"
      ]
    },
    {
      "cell_type": "markdown",
      "metadata": {},
      "source": [
        "## 🔧 ปรับแต่ง RAG Pipeline\n",
        "\n",
        "### การปรับแต่งพารามิเตอร์:\n",
        "\n",
        "1. **k (จำนวนเอกสารที่ค้นหา)**\n",
        "   - `k=1`: เอกสารเดียว, เร็ว แต่ข้อมูลน้อย\n",
        "   - `k=3`: สมดุลระหว่างความเร็วและข้อมูล\n",
        "   - `k=5`: ข้อมูลมาก แต่ช้า\n",
        "\n",
        "2. **Temperature**\n",
        "   - `0.0`: ตอบแบบ deterministic\n",
        "   - `0.1`: ตอบแบบสม่ำเสมอ\n",
        "   - `0.7`: ตอบแบบสร้างสรรค์\n",
        "\n",
        "3. **Chain Type**\n",
        "   - `stuff`: รวมเอกสารทั้งหมดใน prompt เดียว\n",
        "   - `map_reduce`: แบ่งเอกสารเป็นส่วนๆ แล้วรวมผลลัพธ์\n",
        "   - `refine`: ปรับปรุงคำตอบทีละเอกสาร\n"
      ]
    },
    {
      "cell_type": "code",
      "execution_count": 8,
      "metadata": {},
      "outputs": [
        {
          "name": "stdout",
          "output_type": "stream",
          "text": [
            "🔧 ทดสอบค่า k ต่างๆ สำหรับคำถาม: จังหวัดน่านมีประชากรเท่าไหร่?\n",
            "======================================================================\n",
            "\n",
            "📊 k = 1\n",
            "------------------------------\n"
          ]
        },
        {
          "name": "stderr",
          "output_type": "stream",
          "text": [
            "INFO:httpx:HTTP Request: POST https://api.groq.com/openai/v1/chat/completions \"HTTP/1.1 200 OK\"\n"
          ]
        },
        {
          "name": "stdout",
          "output_type": "stream",
          "text": [
            "🤖 คำตอบ: ไม่มีข้อมูลเกี่ยวกับจำนวนประชากรของจังหวัดน่านในข้อมูลที่ให้มา...\n",
            "📚 จำนวนเอกสารอ้างอิง: 1\n",
            "\n",
            "======================================================================\n",
            "\n",
            "📊 k = 3\n",
            "------------------------------\n"
          ]
        },
        {
          "name": "stderr",
          "output_type": "stream",
          "text": [
            "INFO:httpx:HTTP Request: POST https://api.groq.com/openai/v1/chat/completions \"HTTP/1.1 200 OK\"\n"
          ]
        },
        {
          "name": "stdout",
          "output_type": "stream",
          "text": [
            "🤖 คำตอบ: ข้อมูลที่ให้มาไม่ได้ระบุจำนวนประชากรของจังหวัดน่าน...\n",
            "📚 จำนวนเอกสารอ้างอิง: 3\n",
            "\n",
            "======================================================================\n",
            "\n",
            "📊 k = 5\n",
            "------------------------------\n"
          ]
        },
        {
          "name": "stderr",
          "output_type": "stream",
          "text": [
            "INFO:httpx:HTTP Request: POST https://api.groq.com/openai/v1/chat/completions \"HTTP/1.1 200 OK\"\n"
          ]
        },
        {
          "name": "stdout",
          "output_type": "stream",
          "text": [
            "🤖 คำตอบ: ไม่มีข้อมูลเกี่ยวกับจำนวนประชากรของจังหวัดน่านในข้อมูลที่ให้มา...\n",
            "📚 จำนวนเอกสารอ้างอิง: 5\n",
            "\n",
            "======================================================================\n"
          ]
        }
      ],
      "source": [
        "# ทดสอบการปรับแต่งพารามิเตอร์\n",
        "def test_different_k_values(vectorstore, llm, custom_prompt, question, k_values=[1, 3, 5]):\n",
        "    \"\"\"ทดสอบค่า k ต่างๆ\"\"\"\n",
        "    print(f\"🔧 ทดสอบค่า k ต่างๆ สำหรับคำถาม: {question}\")\n",
        "    print(\"=\" * 70)\n",
        "    \n",
        "    for k in k_values:\n",
        "        print(f\"\\n📊 k = {k}\")\n",
        "        print(\"-\" * 30)\n",
        "        \n",
        "        try:\n",
        "            # สร้าง retriever สำหรับ k นี้\n",
        "            retriever = vectorstore.as_retriever(\n",
        "                search_type=\"similarity\",\n",
        "                search_kwargs={\"k\": k}\n",
        "            )\n",
        "            \n",
        "            # สร้าง QA chain\n",
        "            qa_chain = RetrievalQA.from_chain_type(\n",
        "                llm=llm,\n",
        "                chain_type=\"stuff\",\n",
        "                retriever=retriever,\n",
        "                chain_type_kwargs={\"prompt\": custom_prompt},\n",
        "                return_source_documents=True\n",
        "            )\n",
        "            \n",
        "            # ทดสอบ\n",
        "            result = qa_chain({\"query\": question})\n",
        "            answer = result[\"result\"]\n",
        "            source_docs = result.get(\"source_documents\", [])\n",
        "            \n",
        "            print(f\"🤖 คำตอบ: {answer[:200]}...\")\n",
        "            print(f\"📚 จำนวนเอกสารอ้างอิง: {len(source_docs)}\")\n",
        "            \n",
        "        except Exception as e:\n",
        "            print(f\"❌ เกิดข้อผิดพลาด: {e}\")\n",
        "        \n",
        "        print(\"\\n\" + \"=\" * 70)\n",
        "\n",
        "# ทดสอบค่า k ต่างๆ\n",
        "if vectorstore and llm and custom_prompt:\n",
        "    test_question = \"จังหวัดน่านมีประชากรเท่าไหร่?\"\n",
        "    test_different_k_values(vectorstore, llm, custom_prompt, test_question, [1, 3, 5])\n",
        "else:\n",
        "    print(\"❌ ไม่สามารถทดสอบได้ - ตรวจสอบ vectorstore, llm, และ prompt\")\n"
      ]
    },
    {
      "cell_type": "markdown",
      "metadata": {},
      "source": [
        "## 📝 สรุปช่วงที่ 3\n",
        "\n",
        "### สิ่งที่เราได้เรียนรู้:\n",
        "\n",
        "1. **RAG Pipeline** 🔗\n",
        "   - สร้าง RetrievalQA Chain\n",
        "   - สร้าง ConversationalRetrievalChain\n",
        "   - ใช้ Custom Prompt Template\n",
        "\n",
        "2. **LLM Integration** 🤖\n",
        "   - ตั้งค่า Groq LLM\n",
        "   - เชื่อมต่อกับ Vector Store\n",
        "   - ทดสอบการตอบคำถาม\n",
        "\n",
        "3. **Memory & Conversation** 💬\n",
        "   - ใช้ ConversationBufferMemory\n",
        "   - ทดสอบการสนทนาต่อเนื่อง\n",
        "   - จดจำบริบทการสนทนา\n",
        "\n",
        "4. **Parameter Tuning** 🔧\n",
        "   - ปรับแต่งค่า k (จำนวนเอกสาร)\n",
        "   - ทดสอบพารามิเตอร์ต่างๆ\n",
        "   - หาค่าที่เหมาะสม\n",
        "\n",
        "### Pipeline ที่สมบูรณ์:\n",
        "```\n",
        "Question → Embeddings → Vector Search → Retriever → Prompt → LLM → Answer\n",
        "```\n",
        "\n",
        "### ต่อไปในช่วงที่ 4:\n",
        "เราจะสร้าง Streamlit UI สำหรับ RAG Chatbot\n",
        "\n",
        "---\n",
        "\n",
        "**⏰ เวลาที่ใช้: 60 นาที**\n",
        "**📚 ไฟล์ต่อไป: `04_streamlit_ui.ipynb`**\n"
      ]
    }
  ],
  "metadata": {
    "kernelspec": {
      "display_name": ".venv",
      "language": "python",
      "name": "python3"
    },
    "language_info": {
      "codemirror_mode": {
        "name": "ipython",
        "version": 3
      },
      "file_extension": ".py",
      "mimetype": "text/x-python",
      "name": "python",
      "nbconvert_exporter": "python",
      "pygments_lexer": "ipython3",
      "version": "3.13.3"
    }
  },
  "nbformat": 4,
  "nbformat_minor": 2
}
